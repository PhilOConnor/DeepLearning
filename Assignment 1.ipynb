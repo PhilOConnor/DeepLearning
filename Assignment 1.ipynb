{
 "cells": [
  {
   "cell_type": "markdown",
   "id": "b5cbb59c",
   "metadata": {},
   "source": [
    "# Assignment 1\n",
    "Philip O' Connor <br>\n",
    "21249304"
   ]
  },
  {
   "cell_type": "markdown",
   "id": "dfb8f4f6",
   "metadata": {},
   "source": [
    "## Part 1\n",
    "Logistic regression is a variation on multivariable linear regression where the output is reduced to a 1 or 0 using a sigmoid function.  [1]\n",
    "Input values are multiplied by a weight term and the output is discretised using a logistic funciton, like sigmoid or tanh. Stochastic gradient descent uses one observaton at a time to update the weights of w and b until either the cost function J is below a predefined threshold or it has reached the max number of iterations.\n",
    "\n",
    "[Fundamentals of Machine Learning for Predictive Data Analytics]"
   ]
  },
  {
   "cell_type": "code",
   "execution_count": 1,
   "id": "86faaa46",
   "metadata": {},
   "outputs": [],
   "source": [
    "import numpy as np\n",
    "import pandas as pd\n",
    "import seaborn as sns\n",
    "import pdb\n",
    "\n",
    "import matplotlib.pyplot as plt\n",
    "from sklearn.model_selection import train_test_split\n",
    "from sklearn.metrics import f1_score, precision_score, recall_score"
   ]
  },
  {
   "cell_type": "code",
   "execution_count": 2,
   "id": "8db198c8",
   "metadata": {},
   "outputs": [],
   "source": [
    "def predictNscore(model, X, y):\n",
    "    y_hat = model.predict(X)\n",
    "    f1 = f1_score(y, y_hat)\n",
    "    prec = precision_score(y, y_hat)\n",
    "    rec = recall_score(y, y_hat)\n",
    "    print(f\"F1 score: {np.round(f1,2)}\\nPrecision:{np.round(prec,2)}\\nRecall: {np.round(rec,2)}\")\n",
    "    return y_hat\n",
    "\n",
    "class sgd_log_reg():\n",
    "        \n",
    "    def fit(self, X, y, alpha, n_iter, tresh, seed):\n",
    "        # Set seed for the random numers\n",
    "        np.random.seed(seed)\n",
    "        # Initialise w with random numbers, one for each column in training dataset\n",
    "        self.w = np.array(np.random.rand(len(X.columns)))\n",
    "        self.b = np.random.rand()\n",
    "        # Store cost in a list, first value is very high. Will use -1 indexing to check against threshold value\n",
    "        cost_list = [1000]\n",
    "        for n in range(n_iter+1):\n",
    "            # SGD - iterate through each observation, one at a time\n",
    "            for i in range(len(X)):\n",
    "                # Take a single observation\n",
    "                xi = X.iloc[i]\n",
    "                yi = y.iloc[i]\n",
    "\n",
    "                # Calculate y_hat\n",
    "                z = np.dot(self.w, xi)+self.b \n",
    "                y_hat = 1/(1+np.exp(-z))\n",
    "                # Calcualte cost funciton \n",
    "                cost = -(yi*np.log(y_hat))+((1-yi)*np.log(1-y_hat))\n",
    "\n",
    "                # While previous cost is higher than threshold\n",
    "                if cost_list[-1]-cost > tresh:\n",
    "                    cost_list.append(cost)\n",
    "                    # Calculate gradients of w and b\n",
    "                    for weight in self.w:\n",
    "                        del_w = (y_hat-yi)*xi\n",
    "                        del_b = y_hat-yi\n",
    "                    # Update w and b\n",
    "                    for weight in self.w:\n",
    "                        self.w = self.w - alpha*del_w\n",
    "                        self.b = self.b - alpha*del_b\n",
    "\n",
    "                # If cost is below the threshold then break out of the loop\n",
    "                elif  cost_list[-1]-cost <= tresh:\n",
    "                    break\n",
    "        # If the funciton runs for all n iterations then it has not converged. Print out the warning so user can update hyperparameters.\n",
    "        if n == n_iter:\n",
    "            print(f\"{n} of {n_iter} iterations ran. Convergence has not happened. Cost is {cost}\")\n",
    "        if n < n_iter:\n",
    "            print(f\"{n} of {n_iter} iterations ran. Convergence has happened. Cost is {cost}\")\n",
    "            \n",
    "    def predict(self, X):\n",
    "        z = np.dot(X, self.w)+self.b\n",
    "        y_hat_test = 1/(1+np.exp(-z))\n",
    "\n",
    "        # Discretise the output into 1s and 0s\n",
    "        y_hat_rounded = np.round(y_hat_test,0)\n",
    "        y_hat_int = [int(i) for i in y_hat_rounded]\n",
    "        return y_hat_int\n",
    "\n"
   ]
  },
  {
   "cell_type": "markdown",
   "id": "1a63cdb8",
   "metadata": {},
   "source": [
    "## Part 2"
   ]
  },
  {
   "cell_type": "code",
   "execution_count": 3,
   "id": "97086d90",
   "metadata": {},
   "outputs": [
    {
     "name": "stdout",
     "output_type": "stream",
     "text": [
      "10000 of 10000 iterations ran. Convergence has not happened. Cost is 0.4384361128147499\n",
      "F1 score: 0.5\n",
      "Precision:0.67\n",
      "Recall: 0.4\n"
     ]
    },
    {
     "data": {
      "text/plain": [
       "[0,\n",
       " 0,\n",
       " 0,\n",
       " 0,\n",
       " 0,\n",
       " 1,\n",
       " 1,\n",
       " 0,\n",
       " 0,\n",
       " 0,\n",
       " 0,\n",
       " 0,\n",
       " 0,\n",
       " 1,\n",
       " 1,\n",
       " 0,\n",
       " 0,\n",
       " 1,\n",
       " 1,\n",
       " 0,\n",
       " 0,\n",
       " 0,\n",
       " 0,\n",
       " 0,\n",
       " 0,\n",
       " 0,\n",
       " 0,\n",
       " 0,\n",
       " 0,\n",
       " 1,\n",
       " 0,\n",
       " 0,\n",
       " 0,\n",
       " 0,\n",
       " 1,\n",
       " 0,\n",
       " 0,\n",
       " 1,\n",
       " 1,\n",
       " 0,\n",
       " 1,\n",
       " 0,\n",
       " 0,\n",
       " 0,\n",
       " 1,\n",
       " 1,\n",
       " 0,\n",
       " 0,\n",
       " 1,\n",
       " 0,\n",
       " 1]"
      ]
     },
     "execution_count": 3,
     "metadata": {},
     "output_type": "execute_result"
    }
   ],
   "source": [
    "# Blobs\n",
    "df = pd.read_csv(\"blobs400.csv\")\n",
    "# train/test split~\n",
    "X_full_train, X_test, y_full_train, y_test = train_test_split(df.iloc[:,:-1], df.iloc[:,-1], test_size=0.15, random_state=42)\n",
    "# train/validation split\n",
    "X_train, X_val, y_train, y_val = train_test_split(X_full_train,y_full_train , test_size=0.15, random_state=42)\n",
    "\n",
    "# train on training dataset\n",
    "blobs_model = sgd_log_reg()\n",
    "blobs_model.fit(X_train, y_train, alpha=0.1, n_iter=10000, tresh=10**-6, seed=42)\n",
    "\n",
    "predictNscore(blobs_model, X_val,y_val)"
   ]
  },
  {
   "cell_type": "code",
   "execution_count": null,
   "id": "92c3865d",
   "metadata": {},
   "outputs": [],
   "source": [
    "predictNscore(blobs_model, X_test,y_test)"
   ]
  },
  {
   "cell_type": "code",
   "execution_count": null,
   "id": "66671604",
   "metadata": {},
   "outputs": [],
   "source": [
    "fig, axs = plt.subplots(ncols=3, nrows=3, sharey=True, figsize=(9,9))\n",
    "sns.scatterplot(x=X_test['X1'], y=X_test['X1'], ax=axs[0,0], hue =y_test,  style=test_preds)\n",
    "sns.scatterplot(x=X_test['X2'], y=X_test['X1'], ax=axs[0,1], hue =y_test,  style=test_preds)\n",
    "sns.scatterplot(x=X_test['X3'], y=X_test['X1'], ax=axs[0,2], hue =y_test,  style=test_preds)\n",
    "\n",
    "sns.scatterplot(x=X_test['X1'], y=X_test['X2'], ax=axs[1,0], hue =y_test,  style=test_preds)\n",
    "sns.scatterplot(x=X_test['X2'], y=X_test['X2'], ax=axs[1,1], hue =y_test,  style=test_preds)\n",
    "sns.scatterplot(x=X_test['X3'], y=X_test['X2'], ax=axs[1,2], hue =y_test,  style=test_preds)\n",
    "\n",
    "sns.scatterplot(x=X_test['X1'], y=X_test['X3'], ax=axs[2,0], hue =y_test,  style=test_preds)\n",
    "sns.scatterplot(x=X_test['X2'], y=X_test['X3'], ax=axs[2,1], hue =y_test,  style=test_preds)\n",
    "sns.scatterplot(x=X_test['X3'], y=X_test['X3'], ax=axs[2,2], hue =y_test,  style=test_preds)"
   ]
  },
  {
   "cell_type": "code",
   "execution_count": null,
   "id": "e0936689",
   "metadata": {},
   "outputs": [],
   "source": [
    "df = pd.read_csv(\"moons500.csv\")\n",
    "\n",
    "# train/test split\n",
    "X_full_train, X_test, y_full_train, y_test = train_test_split(df.iloc[:,:-1], df.iloc[:,-1], test_size=0.3, random_state=42)\n",
    "# train/validation split\n",
    "X_train, X_val, y_train, y_val = train_test_split(X_full_train,y_full_train , test_size=0.2, random_state=42)\n",
    "\n",
    "# Fit model to data\n",
    "moons_model = sgd_log_reg()\n",
    "moons_model.fit(X_train, y_train, alpha=0.1, n_iter=1000, tresh=10**-6, seed=1)\n",
    "# calculate predictions from the model. Skipping validation as the assignment is coding a logistic regression.\n",
    "\n",
    "predictNscore(moons_model,X_val,y_val )"
   ]
  },
  {
   "cell_type": "code",
   "execution_count": null,
   "id": "23728a3d",
   "metadata": {},
   "outputs": [],
   "source": [
    "predictNscore(moons_model,X_test,y_test )"
   ]
  },
  {
   "cell_type": "code",
   "execution_count": null,
   "id": "2d960374",
   "metadata": {},
   "outputs": [],
   "source": [
    "ax = sns.scatterplot(data = X_test, x='X1', y='X2', hue =y_test,  style=test_preds, legend='brief')\n",
    "sns.move_legend(ax, \"upper left\", bbox_to_anchor=(1, 1))"
   ]
  },
  {
   "cell_type": "markdown",
   "id": "a02fd4ef",
   "metadata": {},
   "source": [
    "# Part 3 - Shallow neutal network\n",
    "\n"
   ]
  },
  {
   "cell_type": "code",
   "execution_count": null,
   "id": "d93a8ff3",
   "metadata": {},
   "outputs": [],
   "source": [
    "def logistic_fn(z):\n",
    "    return 1/(1+np.exp(-z))\n",
    "\n",
    "def logistic_derivation(z):\n",
    "    return logistic_fn(z)*(1-logistic_fn(z))\n",
    "\n",
    "class shallow_net():\n",
    "    \n",
    "    def network_layout(self, n_input, n_nodes, n_output, seed):\n",
    "        # Build and initialise the network weights and biases with random values between 0 and 1 \n",
    "        np.random.seed(seed)\n",
    "        self.n_nodes = n_nodes\n",
    "        self.hidden_layer_weights = np.random.rand(n_nodes,n_input)-0.5\n",
    "        self.hidden_layer_bias = np.random.rand(n_nodes)\n",
    "        self.output_layer_weights = np.random.rand(n_nodes)\n",
    "        self.output_layer_bias = np.random.rand()\n",
    "    \n",
    "    def print_network(self):\n",
    "        # Print out the current weights and biases of the network\n",
    "        print(\"Hidden Weights:\\n\")\n",
    "        print(self.hidden_layer_weights)\n",
    "        print(\"\\nHidden Bias:\\n\")\n",
    "        print(self.hidden_layer_bias)\n",
    "        print(\"Output Weights:\\n\")\n",
    "        print(self.output_layer_weights)\n",
    "        print(\"\\nOutput Bias:\\n\")\n",
    "        print(self.output_layer_bias)\n",
    "    \n",
    "    def return_network(self):\n",
    "        # Return values of the network\n",
    "        return self.hidden_layer_weights, self.hidden_layer_bias, self.output_layer_weights, self.output_layer_bias\n",
    "\n",
    " \n",
    "\n",
    "    def fit(self, X, y, alpha, n_iter, thresh):\n",
    "        # For each iteration\n",
    "        \n",
    "        j2=100\n",
    "        \n",
    "        self.j_list = []\n",
    "        for n in range(n_iter+1):\n",
    "            # Check if threshold is met\n",
    "            if j2 <= thresh:\n",
    "                continue\n",
    "            else:\n",
    "                pass\n",
    "            \n",
    "            # Print a progress update\n",
    "            if n%(n_iter/5)==0:\n",
    "                print(f\"{n}/{n_iter} complete\")\n",
    "            else:\n",
    "                pass\n",
    "\n",
    "\n",
    "            # SGD - iterate through each observation, one at a time\n",
    "            for i in range(len(X_train)):\n",
    "                # Take a single observation\n",
    "                xi = X_train.iloc[i]\n",
    "                yi = y_train.iloc[i]\n",
    "                # Create some lists to store values in.\n",
    "                hidden_layer_cost=[]\n",
    "                a1=np.array([])\n",
    "                j1 = []\n",
    "                z1_list=[]\n",
    "                del_z_hidden_list=[]\n",
    "\n",
    "\n",
    "                # For each node in hidden layer calculate z, activation and the cost                \n",
    "                \n",
    "                # Calculate y_hat\n",
    "                z1 = np.dot(self.hidden_layer_weights, xi.T)+self.hidden_layer_bias \n",
    "                a1 = logistic_fn(z1)\n",
    "\n",
    "                # Calcualte cost funciton - not used but no harm in tracking\n",
    "                hidden_layer_cost.append(-(yi*np.log(a1))+((1-yi)*np.log(1-a1)))\n",
    "                    \n",
    "                # In the output layer calculate z, activation and the cost\n",
    "                z2 = np.dot(a1,self.output_layer_weights) +self.output_layer_bias\n",
    "                a2 = logistic_fn(z2)\n",
    "                # Calcualte cost funciton \n",
    "                j2 = -(yi*np.log(a2))+((1-yi)*np.log(1-a2))\n",
    "                \n",
    "\n",
    "\n",
    "\n",
    "                # Back propogation\n",
    "                # Output node\n",
    "                del_z_output = a2-yi \n",
    "                del_w_output = np.dot(del_z_output,a1.T)\n",
    "                del_b_output = del_z_output\n",
    "                \n",
    "\n",
    "                # Hidden Layer\n",
    "                # For each node in the hidden layer, calc the del_z wrt its output node weight and store in a list\n",
    "\n",
    "                del_z_hidden = logistic_derivation(z1)*np.dot(self.output_layer_weights,del_z_output)\n",
    "                #del_z_hidden_list.append(del_z_hidden)\n",
    "                # Reshape the vectors to return a matrix that can be used to update the hidden weights.\n",
    "                del_w_hidden = np.array(del_z_hidden.reshape((self.n_nodes,1)))*np.array(xi)\n",
    "                del_b_hidden = del_z_hidden\n",
    "                #pdb.set_trace()\n",
    "                \n",
    "                \"\"\"\n",
    "                del_z_hidden = logistic_derivation(z1)*np.dot(self.output_layer_weights.T,del_z_output)\n",
    "                #del_z_hidden_list.append(del_z_hidden)\n",
    "                # Reshape the vectors to return a 2x2 matrix that can be used to update the hidden weights.\n",
    "                del_w_hidden = np.array(del_z_hidden.reshape((self.n_nodes,1)))*np.array(xi).T\n",
    "                del_b_hidden = del_z_hidden\"\"\"\n",
    "                \n",
    "                    \n",
    "                # Update the hidden layer weights with the matrix calculated above\n",
    "                self.hidden_layer_weights = self.hidden_layer_weights - (alpha*del_w_hidden)\n",
    "                # Update bidden layer bias\n",
    "                self.hidden_layer_bias = self.hidden_layer_bias - (alpha * del_b_hidden)\n",
    "                    \n",
    "                self.output_layer_weights = self.output_layer_weights - (alpha*del_w_output)\n",
    "                self.output_layer_bias = self.output_layer_bias - (alpha*del_b_output)\n",
    "                #pdb.set_trace()\n",
    "            self.j_list.append(j2)\n",
    "            # Creating attributes to query them \n",
    "        self.a1 = a1\n",
    "        self.a2 = a2\n",
    "        self.del_z_output = del_z_output\n",
    "        self.del_w_output = del_w_output\n",
    "        self.del_b_output = del_b_output \n",
    "\n",
    "        # Hidden Layer\n",
    "        self.del_z_hidden = del_z_hidden\n",
    "        self.del_w_hidden = del_w_hidden\n",
    "        self.del_b_hidden = del_b_hidden\n",
    "\n",
    "\n",
    "        print(f\"{n} iterations ran\")\n",
    "\n",
    "\n",
    "    def predict(self, X):\n",
    "        predictions=[]\n",
    "        for i in range(len(X)):\n",
    "            # Take a single observation\n",
    "            xi = X.iloc[i]\n",
    "            a1_pred = []\n",
    "\n",
    "            z1 = np.dot(self.hidden_layer_weights, xi)+self.hidden_layer_bias\n",
    "            a1_pred = logistic_fn(z1)\n",
    "\n",
    "            \n",
    "            z2 = np.dot(a1_pred,self.output_layer_weights) +self.output_layer_bias\n",
    "            a2 = logistic_fn(z2)\n",
    "            predictions.append(a2)\n",
    "            #pdb.set_trace()\n",
    "        return [int(i) for i in np.round(predictions,0)]\n",
    "    \n",
    "\n",
    "\n",
    "\n",
    "            \n",
    "            \n",
    "\n",
    "            \n",
    "\n",
    "                \n",
    "                \n",
    "\n"
   ]
  },
  {
   "cell_type": "code",
   "execution_count": null,
   "id": "b5ec5bef",
   "metadata": {
    "tags": []
   },
   "outputs": [],
   "source": [
    "# Blobs\n",
    "df = pd.read_csv(\"blobs400.csv\")\n",
    "# train/test split~\n",
    "X_full_train, X_test, y_full_train, y_test = train_test_split(df.iloc[:,:-1], df.iloc[:,-1], test_size=0.15, random_state=42)\n",
    "# train/validation split\n",
    "X_train, X_val, y_train, y_val = train_test_split(X_full_train,y_full_train , test_size=0.15, random_state=42)\n",
    "\n",
    "blobs_nn = shallow_net()\n",
    "\n",
    "blobs_nn.network_layout(len(X_train.columns), len(X_train.columns),1, seed=45)\n",
    "\n",
    "blobs_nn.fit(X_train, y_train, alpha=0.2, n_iter=100, thresh = 1e-6)"
   ]
  },
  {
   "cell_type": "code",
   "execution_count": null,
   "id": "42019907",
   "metadata": {},
   "outputs": [],
   "source": [
    "y_hat_val = predictNscore(blobs_nn, X_val, y_val)"
   ]
  },
  {
   "cell_type": "code",
   "execution_count": null,
   "id": "bdc854c2",
   "metadata": {},
   "outputs": [],
   "source": [
    "y_hat_test =predictNscore(blobs_nn, X_test, y_test)"
   ]
  },
  {
   "cell_type": "code",
   "execution_count": null,
   "id": "fdf84e94",
   "metadata": {},
   "outputs": [],
   "source": [
    "fig, axs = plt.subplots(ncols=3, nrows=3, sharey=True, figsize=(12,12))\n",
    "sns.scatterplot(x=X_test['X1'], y=X_test['X1'], ax=axs[0,0], hue =y_test,  style=y_hat_test)\n",
    "sns.scatterplot(x=X_test['X2'], y=X_test['X1'], ax=axs[0,1], hue =y_test,  style=y_hat_test)\n",
    "sns.scatterplot(x=X_test['X3'], y=X_test['X1'], ax=axs[0,2], hue =y_test,  style=y_hat_test)\n",
    "\n",
    "sns.scatterplot(x=X_test['X1'], y=X_test['X2'], ax=axs[1,0], hue =y_test,  style=y_hat_test)\n",
    "sns.scatterplot(x=X_test['X2'], y=X_test['X2'], ax=axs[1,1], hue =y_test,  style=y_hat_test)\n",
    "sns.scatterplot(x=X_test['X3'], y=X_test['X2'], ax=axs[1,2], hue =y_test,  style=y_hat_test)\n",
    "\n",
    "sns.scatterplot(x=X_test['X1'], y=X_test['X3'], ax=axs[2,0], hue =y_test,  style=y_hat_test)\n",
    "sns.scatterplot(x=X_test['X2'], y=X_test['X3'], ax=axs[2,1], hue =y_test,  style=y_hat_test)\n",
    "sns.scatterplot(x=X_test['X3'], y=X_test['X3'], ax=axs[2,2], hue =y_test,  style=y_hat_test)\n",
    "sns.move_legend(ax, \"upper left\", bbox_to_anchor=(1, 1))"
   ]
  },
  {
   "cell_type": "code",
   "execution_count": null,
   "id": "00c6947a",
   "metadata": {},
   "outputs": [],
   "source": [
    "ax = sns.lineplot(data=blobs_nn.j_list)\n",
    "ax.set(title='Log loss per Epoch', xlabel='Epoch', ylabel='Log Loss')"
   ]
  },
  {
   "cell_type": "code",
   "execution_count": null,
   "id": "2b2c7cd2",
   "metadata": {},
   "outputs": [],
   "source": [
    "# Blobs\n",
    "df = pd.read_csv(\"moons500.csv\")\n",
    "# train/test split~\n",
    "X_full_train, X_test, y_full_train, y_test = train_test_split(df.iloc[:,:-1], df.iloc[:,-1], test_size=0.15, random_state=42)\n",
    "# train/validation split\n",
    "X_train, X_val, y_train, y_val = train_test_split(X_full_train,y_full_train , test_size=0.15, random_state=42)\n",
    "\n",
    "moons_nn = shallow_net()\n",
    "\n",
    "moons_nn.network_layout(len(X_train.columns), len(X_train.columns),1, seed=80)\n",
    "\n",
    "moons_nn.fit(X_train, y_train, alpha=0.01, n_iter=100, thresh = 1e-6)"
   ]
  },
  {
   "cell_type": "code",
   "execution_count": null,
   "id": "35706670",
   "metadata": {},
   "outputs": [],
   "source": [
    "y_hat_val = predictNscore(moons_nn, X_val, y_val)"
   ]
  },
  {
   "cell_type": "code",
   "execution_count": null,
   "id": "78f507bd",
   "metadata": {},
   "outputs": [],
   "source": [
    "y_hat_test = predictNscore(moons_nn, X_test, y_test)"
   ]
  },
  {
   "cell_type": "code",
   "execution_count": null,
   "id": "cc0435c3",
   "metadata": {},
   "outputs": [],
   "source": [
    "ax = sns.scatterplot(data = X_test, x='X1', y='X2', hue =y_test,  style=y_hat_test, legend='brief')\n",
    "sns.move_legend(ax, \"upper left\", bbox_to_anchor=(1, 1))"
   ]
  },
  {
   "cell_type": "code",
   "execution_count": null,
   "id": "4983f453",
   "metadata": {},
   "outputs": [],
   "source": [
    "ax = sns.lineplot(data=moons_nn.j_list)\n",
    "ax.set(title='Log loss per Epoch', xlabel='Epoch', ylabel='Log Loss');"
   ]
  },
  {
   "cell_type": "markdown",
   "id": "3024af89",
   "metadata": {},
   "source": [
    "# Comments\n",
    "\n",
    "The shallow neural net has performed much better on both datasets on F1, precision and recall. The decision boundaries in the plots are also far more appropriate. In the blobs dataset, there is clear separation of the two classes even when not linearly seperable. "
   ]
  },
  {
   "cell_type": "markdown",
   "id": "09d66357",
   "metadata": {},
   "source": [
    "# Part 4 - Fashion MNIST\n",
    "\n",
    "The categories assigned to me are tshirt/top and ankle boot. <br>\n",
    "The index positions of these in the lables provided are 0 and 9 respectively"
   ]
  },
  {
   "cell_type": "code",
   "execution_count": 14,
   "id": "e394f21c",
   "metadata": {},
   "outputs": [],
   "source": [
    "# This function taken directly from the Fashion-MNIST github site: \n",
    "# https://github.com/zalandoresearch/fashion-mnist/blob/master/utils/mnist_reader.py\n",
    "\n",
    "# Note: first arg is the path name, second is the file prefix, either 'train' or 't10k' (which is 10k of test data)\n",
    "def load_mnist(path, kind='train'): \n",
    "    import os\n",
    "    import gzip\n",
    "    import numpy as np\n",
    "\n",
    "    \"\"\"Load MNIST data from `path`\"\"\"\n",
    "    labels_path = os.path.join(path,\n",
    "                               '%s-labels-idx1-ubyte.gz'\n",
    "                               % kind)\n",
    "    images_path = os.path.join(path,\n",
    "                               '%s-images-idx3-ubyte.gz'\n",
    "                               % kind)\n",
    "\n",
    "    with gzip.open(labels_path, 'rb') as lbpath:\n",
    "        labels = np.frombuffer(lbpath.read(), dtype=np.uint8,\n",
    "                               offset=8)\n",
    "\n",
    "    with gzip.open(images_path, 'rb') as imgpath:\n",
    "        images = np.frombuffer(imgpath.read(), dtype=np.uint8,\n",
    "                               offset=16).reshape(len(labels), 784)\n",
    "\n",
    "    return images, labels\n",
    "\n",
    "# Loaded in this way, each of the batch files contains a dictionary with the following elements:\n",
    "#   data -- a 10000x3072 numpy array of uint8s. Each row of the array stores a 32x32 colour image. \n",
    "#           The first 1024 entries contain the red channel values, the next 1024 the green, and the final 1024 the blue. \n",
    "#           The image is stored in row-major order, so that the first 32 entries of the array are the red channel values \n",
    "#           of the first row of the image.\n",
    "#   labels -- a list of 10000 numbers in the range 0-9. \n",
    "#             The number at index i indicates the label of the ith image in the array data.\n"
   ]
  },
  {
   "cell_type": "code",
   "execution_count": 15,
   "id": "c58d644b",
   "metadata": {},
   "outputs": [
    {
     "name": "stderr",
     "output_type": "stream",
     "text": [
      "<ipython-input-15-fb07772a9f71>:7: FutureWarning: The frame.append method is deprecated and will be removed from pandas in a future version. Use pandas.concat instead.\n",
      "  df = df.append(full_df[full_df['labels']==9])\n"
     ]
    }
   ],
   "source": [
    "(train_imgs, train_labels) = load_mnist(\"fashion-mnist/data/fashion/\")\n",
    "\n",
    "label_names = ['T-shirt/top', 'Trouser' , 'Pullover', 'Dress', 'Coat', 'Sandal', 'Shirt', 'Sneaker', 'Bag', 'Ankle boot']\n",
    "full_df =pd.DataFrame(train_imgs) \n",
    "full_df['labels'] = train_labels\n",
    "df = full_df[full_df['labels']==0]\n",
    "df = df.append(full_df[full_df['labels']==9])"
   ]
  },
  {
   "cell_type": "code",
   "execution_count": 16,
   "id": "0f94dc97",
   "metadata": {},
   "outputs": [],
   "source": [
    "# RE-encoding the lables for the logistic regressor\n",
    "# tshirt/top = 0\n",
    "# Ankle boot = 1\n",
    "df.loc[df.labels == 9 ,'labels']=1"
   ]
  },
  {
   "cell_type": "code",
   "execution_count": 17,
   "id": "019bd68c",
   "metadata": {},
   "outputs": [],
   "source": [
    "X_train, X_test, y_train, y_test = train_test_split(df.iloc[:,:-1], df.iloc[:,-1], test_size=0.30, random_state=42)\n",
    "X_train, X_val, y_train, y_val = train_test_split(X_train, y_train, test_size=0.30, random_state=42)\n"
   ]
  },
  {
   "cell_type": "code",
   "execution_count": 18,
   "id": "aa14cb26",
   "metadata": {},
   "outputs": [],
   "source": [
    "n_inputs = len(X_train.columns)"
   ]
  },
  {
   "cell_type": "code",
   "execution_count": null,
   "id": "0d7dbfd9",
   "metadata": {},
   "outputs": [],
   "source": [
    "fashion_nn = shallow_net()\n",
    "\n",
    "fashion_nn.network_layout(n_inputs, 40,1, seed=20)\n",
    "\n",
    "fashion_nn.fit(X_train, y_train, alpha=0.01, n_iter=100, thresh = 1e-6)"
   ]
  },
  {
   "cell_type": "code",
   "execution_count": null,
   "id": "cb58f17a",
   "metadata": {},
   "outputs": [],
   "source": [
    "y_hat_val = predictNscore(fashion_nn, X_val, y_val)"
   ]
  },
  {
   "cell_type": "code",
   "execution_count": null,
   "id": "2cda9bc0",
   "metadata": {},
   "outputs": [],
   "source": [
    "y_hat_test = predictNscore(fashion_nn, X_test, y_test)"
   ]
  },
  {
   "cell_type": "code",
   "execution_count": null,
   "id": "2aea2316",
   "metadata": {
    "tags": []
   },
   "outputs": [],
   "source": [
    "print('   y','y^')\n",
    "[i for i in zip(y_test[:10], test_preds[:10])]"
   ]
  },
  {
   "cell_type": "code",
   "execution_count": null,
   "id": "08a6d20f",
   "metadata": {},
   "outputs": [],
   "source": [
    "ax = sns.lineplot(data=fashion_nn.j_list)\n",
    "ax.set(title='Log loss per Epoch', xlabel='Epoch', ylabel='Log Loss');"
   ]
  },
  {
   "cell_type": "markdown",
   "id": "28f5e944",
   "metadata": {},
   "source": [
    "# Part 5\n",
    "\n",
    "There's something wrong with how im handling my matrices, I'm losing the output weights and bias"
   ]
  },
  {
   "cell_type": "code",
   "execution_count": 10,
   "id": "d2550d90",
   "metadata": {},
   "outputs": [],
   "source": [
    "def logistic_fn(z):\n",
    "    return 1/(1+np.exp(-z))\n",
    "\n",
    "def logistic_derivation(z):\n",
    "    return logistic_fn(z)*(1-logistic_fn(z))\n",
    "\n",
    "class deep_net():\n",
    "    def __init__(self):\n",
    "        self.weights=[]\n",
    "        self.bias=[]\n",
    "        \n",
    "    \n",
    "    def network_layout(self, arch, seed):\n",
    "        # Build and initialise the network weights and biases with random values between 0 and 1 \n",
    "        np.random.seed(seed)\n",
    "        self.n_layers= len(arch)\n",
    "        for i in range(len(arch)):\n",
    "            if i>=1:\n",
    "                self.weights.append(np.random.rand(arch[i], arch[i-1])-0.5)\n",
    "                self.bias.append(np.random.rand(arch[i]))\n",
    "\n",
    "    \n",
    "    def print_network(self):\n",
    "        # Print out the current weights and biases of the network\n",
    "        for i in range(len(self.weights)):\n",
    "            print(f\"Layer {i+1} of {len(self.weights)}\")\n",
    "            print(f\"{self.weights[i]}\")\n",
    "    \n",
    "    def return_network(self):\n",
    "        # Return values of the network\n",
    "        return self.weights, self.bias\n",
    "\n",
    "    def fit(self, X, y, alpha, n_iter, thresh):\n",
    "        jx=100\n",
    "        self.j_list=[]\n",
    "        for n in range(n_iter+1):\n",
    "            # Check if threshold is met\n",
    "            if jx <= thresh:\n",
    "                break\n",
    "            else:\n",
    "                pass\n",
    "            # Print a progress update\n",
    "            if n%(n_iter/5)==0:\n",
    "                print(f\"{n}/{n_iter} complete\")\n",
    "            else:\n",
    "                pass\n",
    "\n",
    "\n",
    "            # SGD - iterate through each observation, one at a time\n",
    "            for i in range(len(X)):\n",
    "                # Take a single observation\n",
    "                xi = X.iloc[i]\n",
    "                yi = y.iloc[i]\n",
    "                zx_list=[]\n",
    "                ax_list=[]\n",
    "                # Create some lists to store values in.\n",
    "\n",
    "                # For each node in hidden layer calculate z, activation and the cost                \n",
    "                #pdb.set_trace()\n",
    "                for w in range(len(self.weights)):\n",
    "                    if w==0:\n",
    "                        zx = np.dot(self.weights[w], xi.T)+self.bias[w]\n",
    "                        ax = logistic_fn(zx)\n",
    "                        zx_list.append(zx)\n",
    "                        ax_list.append(ax)\n",
    "\n",
    "                    else:\n",
    "                        zx = np.dot(self.weights[w], zx.T)+self.bias[w]\n",
    "                        ax = logistic_fn(zx)\n",
    "                        zx_list.append(zx)\n",
    "                        ax_list.append(ax)                        \n",
    "                      \n",
    "                jx = -(yi*np.log(ax))+((1-yi)*np.log(1-ax))[0]\n",
    "                    \n",
    "\n",
    "                dw_list=[]\n",
    "                db_list=[]\n",
    "\n",
    "                # Back propogation\n",
    "                # Output node\n",
    "                #pdb.set_trace()\n",
    "                for w in range(len(self.weights)-1,-1,-1):\n",
    "                    #pdb.set_trace()\n",
    "                    if w==len(self.weights)-1:\n",
    "                        dz = ax-yi\n",
    "                        dw = dz*ax_list[w-1]\n",
    "                        db=dz\n",
    "                        dw_list.append(dw)\n",
    "                        db_list.append(dz)\n",
    "                        \n",
    "                        \n",
    "                    else:\n",
    "                        #pdb.set_trace()\n",
    "                        dz = logistic_derivation(zx_list[w])*np.sum(self.weights[w+1]*zx_list[w+1])\n",
    "                        dw = np.array(dz.reshape((len(zx_list[w]),1)))*np.array(ax_list[w-1])\n",
    "                        db = dz\n",
    "                        dw_list.append(dw)\n",
    "                        db_list.append(dz)\n",
    "               \n",
    "\n",
    "\n",
    "                # Pre dw_list reverse\n",
    "                #pdb.set_trace()\n",
    "                dw_list = dw_list[::-1]\n",
    "                db_list = db_list[::-1]\n",
    "                # Pst dw_list reverse\n",
    "                #pdb.set_trace()\n",
    "                # Store t0 weights and biases before updating to t1 ws and bs\n",
    "                wt0 = self.weights.copy()\n",
    "                bt0 = self.bias.copy()\n",
    "                \n",
    "\n",
    "                # Update the hidden layer weights with the matrix calculated above\n",
    "                for w in range(len(self.weights)):\n",
    "                    self.weights[w] = self.weights[w] - np.dot(alpha,dw_list[w])\n",
    "                    self.bias[w] = self.bias[w] - np.dot(alpha,db_list[w])\n",
    "            #pdb.set_trace()\n",
    "            self.j_list.append(jx[0])\n",
    "        \n",
    "        # Creating attributes to query them \n",
    "        self.ax_list = ax_list\n",
    "        self.db_list = db_list\n",
    "        self.dw_list = dw_list\n",
    "        #pdb.set_trace()\n",
    "\n",
    "        print(f\"{n} iterations ran\")\n",
    "\n",
    "\n",
    "    def predict(self, X):\n",
    "        predictions=[]\n",
    "        for n in range(len(X)):\n",
    "            xi=X.iloc[n]\n",
    "            #pdb.set_trace()\n",
    "            # Take a single observation\n",
    "            for w in range(len(self.weights)):\n",
    "                if w==0:\n",
    "                    #pdb.set_trace()\n",
    "                    zx = np.dot(self.weights[w], xi.T)+self.bias[w]\n",
    "                    ax = logistic_fn(zx)\n",
    "\n",
    "                else:\n",
    "                    zx = np.dot(self.weights[w], zx.T)+self.bias[w]\n",
    "                    ax = logistic_fn(zx)\n",
    "       \n",
    "            #pdb.set_trace()\n",
    "            predictions.append(ax)\n",
    " \n",
    "            #pdb.set_trace()\n",
    "        return [int(i) for i in np.round(predictions,0)]"
   ]
  },
  {
   "cell_type": "code",
   "execution_count": 19,
   "id": "ed87a748",
   "metadata": {},
   "outputs": [
    {
     "name": "stdout",
     "output_type": "stream",
     "text": [
      "0/100 complete\n"
     ]
    },
    {
     "name": "stderr",
     "output_type": "stream",
     "text": [
      "<ipython-input-10-1f9f8453b121>:73: RuntimeWarning: divide by zero encountered in log\n",
      "  jx = -(yi*np.log(ax))+((1-yi)*np.log(1-ax))[0]\n",
      "<ipython-input-10-1f9f8453b121>:73: RuntimeWarning: invalid value encountered in multiply\n",
      "  jx = -(yi*np.log(ax))+((1-yi)*np.log(1-ax))[0]\n",
      "<ipython-input-10-1f9f8453b121>:2: RuntimeWarning: overflow encountered in exp\n",
      "  return 1/(1+np.exp(-z))\n",
      "<ipython-input-10-1f9f8453b121>:38: RuntimeWarning: invalid value encountered in less_equal\n",
      "  if jx <= thresh:\n"
     ]
    },
    {
     "ename": "KeyboardInterrupt",
     "evalue": "",
     "output_type": "error",
     "traceback": [
      "\u001b[1;31m---------------------------------------------------------------------------\u001b[0m",
      "\u001b[1;31mKeyboardInterrupt\u001b[0m                         Traceback (most recent call last)",
      "\u001b[1;32m<ipython-input-19-8d1bed68d9df>\u001b[0m in \u001b[0;36m<module>\u001b[1;34m\u001b[0m\n\u001b[0;32m      3\u001b[0m \u001b[0mtest\u001b[0m\u001b[1;33m.\u001b[0m\u001b[0mnetwork_layout\u001b[0m\u001b[1;33m(\u001b[0m\u001b[1;33m[\u001b[0m\u001b[0mlen\u001b[0m\u001b[1;33m(\u001b[0m\u001b[0mX_train\u001b[0m\u001b[1;33m.\u001b[0m\u001b[0mcolumns\u001b[0m\u001b[1;33m)\u001b[0m\u001b[1;33m,\u001b[0m\u001b[1;36m3\u001b[0m\u001b[1;33m,\u001b[0m \u001b[1;36m1\u001b[0m\u001b[1;33m]\u001b[0m\u001b[1;33m,\u001b[0m \u001b[1;36m20\u001b[0m\u001b[1;33m)\u001b[0m\u001b[1;33m\u001b[0m\u001b[1;33m\u001b[0m\u001b[0m\n\u001b[0;32m      4\u001b[0m \u001b[1;33m\u001b[0m\u001b[0m\n\u001b[1;32m----> 5\u001b[1;33m \u001b[0mtest\u001b[0m\u001b[1;33m.\u001b[0m\u001b[0mfit\u001b[0m\u001b[1;33m(\u001b[0m\u001b[0mX_train\u001b[0m\u001b[1;33m,\u001b[0m \u001b[0my_train\u001b[0m\u001b[1;33m,\u001b[0m \u001b[0malpha\u001b[0m\u001b[1;33m=\u001b[0m\u001b[1;36m0.02\u001b[0m\u001b[1;33m,\u001b[0m \u001b[0mn_iter\u001b[0m\u001b[1;33m=\u001b[0m\u001b[1;36m100\u001b[0m\u001b[1;33m,\u001b[0m \u001b[0mthresh\u001b[0m \u001b[1;33m=\u001b[0m \u001b[1;36m1e-6\u001b[0m\u001b[1;33m)\u001b[0m\u001b[1;33m\u001b[0m\u001b[1;33m\u001b[0m\u001b[0m\n\u001b[0m",
      "\u001b[1;32m<ipython-input-10-1f9f8453b121>\u001b[0m in \u001b[0;36mfit\u001b[1;34m(self, X, y, alpha, n_iter, thresh)\u001b[0m\n\u001b[0;32m    114\u001b[0m                 \u001b[1;32mfor\u001b[0m \u001b[0mw\u001b[0m \u001b[1;32min\u001b[0m \u001b[0mrange\u001b[0m\u001b[1;33m(\u001b[0m\u001b[0mlen\u001b[0m\u001b[1;33m(\u001b[0m\u001b[0mself\u001b[0m\u001b[1;33m.\u001b[0m\u001b[0mweights\u001b[0m\u001b[1;33m)\u001b[0m\u001b[1;33m)\u001b[0m\u001b[1;33m:\u001b[0m\u001b[1;33m\u001b[0m\u001b[1;33m\u001b[0m\u001b[0m\n\u001b[0;32m    115\u001b[0m                     \u001b[0mself\u001b[0m\u001b[1;33m.\u001b[0m\u001b[0mweights\u001b[0m\u001b[1;33m[\u001b[0m\u001b[0mw\u001b[0m\u001b[1;33m]\u001b[0m \u001b[1;33m=\u001b[0m \u001b[0mself\u001b[0m\u001b[1;33m.\u001b[0m\u001b[0mweights\u001b[0m\u001b[1;33m[\u001b[0m\u001b[0mw\u001b[0m\u001b[1;33m]\u001b[0m \u001b[1;33m-\u001b[0m \u001b[0mnp\u001b[0m\u001b[1;33m.\u001b[0m\u001b[0mdot\u001b[0m\u001b[1;33m(\u001b[0m\u001b[0malpha\u001b[0m\u001b[1;33m,\u001b[0m\u001b[0mdw_list\u001b[0m\u001b[1;33m[\u001b[0m\u001b[0mw\u001b[0m\u001b[1;33m]\u001b[0m\u001b[1;33m)\u001b[0m\u001b[1;33m\u001b[0m\u001b[1;33m\u001b[0m\u001b[0m\n\u001b[1;32m--> 116\u001b[1;33m                     \u001b[0mself\u001b[0m\u001b[1;33m.\u001b[0m\u001b[0mbias\u001b[0m\u001b[1;33m[\u001b[0m\u001b[0mw\u001b[0m\u001b[1;33m]\u001b[0m \u001b[1;33m=\u001b[0m \u001b[0mself\u001b[0m\u001b[1;33m.\u001b[0m\u001b[0mbias\u001b[0m\u001b[1;33m[\u001b[0m\u001b[0mw\u001b[0m\u001b[1;33m]\u001b[0m \u001b[1;33m-\u001b[0m \u001b[0mnp\u001b[0m\u001b[1;33m.\u001b[0m\u001b[0mdot\u001b[0m\u001b[1;33m(\u001b[0m\u001b[0malpha\u001b[0m\u001b[1;33m,\u001b[0m\u001b[0mdb_list\u001b[0m\u001b[1;33m[\u001b[0m\u001b[0mw\u001b[0m\u001b[1;33m]\u001b[0m\u001b[1;33m)\u001b[0m\u001b[1;33m\u001b[0m\u001b[1;33m\u001b[0m\u001b[0m\n\u001b[0m\u001b[0;32m    117\u001b[0m             \u001b[1;31m#pdb.set_trace()\u001b[0m\u001b[1;33m\u001b[0m\u001b[1;33m\u001b[0m\u001b[1;33m\u001b[0m\u001b[0m\n\u001b[0;32m    118\u001b[0m             \u001b[0mself\u001b[0m\u001b[1;33m.\u001b[0m\u001b[0mj_list\u001b[0m\u001b[1;33m.\u001b[0m\u001b[0mappend\u001b[0m\u001b[1;33m(\u001b[0m\u001b[0mjx\u001b[0m\u001b[1;33m[\u001b[0m\u001b[1;36m0\u001b[0m\u001b[1;33m]\u001b[0m\u001b[1;33m)\u001b[0m\u001b[1;33m\u001b[0m\u001b[1;33m\u001b[0m\u001b[0m\n",
      "\u001b[1;32m<__array_function__ internals>\u001b[0m in \u001b[0;36mdot\u001b[1;34m(*args, **kwargs)\u001b[0m\n",
      "\u001b[1;31mKeyboardInterrupt\u001b[0m: "
     ]
    }
   ],
   "source": [
    "test = deep_net()\n",
    "\n",
    "test.network_layout([len(X_train.columns),3, 1], 20)\n",
    "\n",
    "test.fit(X_train, y_train, alpha=0.02, n_iter=100, thresh = 1e-6)"
   ]
  },
  {
   "cell_type": "code",
   "execution_count": 12,
   "id": "be9b1e10",
   "metadata": {},
   "outputs": [
    {
     "name": "stdout",
     "output_type": "stream",
     "text": [
      "F1 score: 0.88\n",
      "Precision:0.88\n",
      "Recall: 0.88\n"
     ]
    }
   ],
   "source": [
    "y_hat_val = predictNscore(test, X_val, y_val)"
   ]
  },
  {
   "cell_type": "code",
   "execution_count": 13,
   "id": "facb1214",
   "metadata": {},
   "outputs": [
    {
     "data": {
      "image/png": "[encoded data removed]",
      "text/plain": [
       "<Figure size 432x288 with 1 Axes>"
      ]
     },
     "metadata": {
      "needs_background": "light"
     },
     "output_type": "display_data"
    }
   ],
   "source": [
    "ax = sns.lineplot(data=test.j_list)\n",
    "ax.set(title='Log loss per Epoch', xlabel='Epoch', ylabel='Log Loss');"
   ]
  },
  {
   "cell_type": "code",
   "execution_count": 9,
   "id": "3144c8cb",
   "metadata": {},
   "outputs": [
    {
     "data": {
      "text/plain": [
       "[0,\n",
       " 1,\n",
       " 0,\n",
       " 0,\n",
       " 0,\n",
       " 1,\n",
       " 1,\n",
       " 0,\n",
       " 1,\n",
       " 1,\n",
       " 1,\n",
       " 0,\n",
       " 1,\n",
       " 0,\n",
       " 1,\n",
       " 0,\n",
       " 1,\n",
       " 1,\n",
       " 1,\n",
       " 1,\n",
       " 0,\n",
       " 0,\n",
       " 1,\n",
       " 0,\n",
       " 0,\n",
       " 0,\n",
       " 0,\n",
       " 0,\n",
       " 1,\n",
       " 1,\n",
       " 0,\n",
       " 0,\n",
       " 0,\n",
       " 1,\n",
       " 0,\n",
       " 1,\n",
       " 0,\n",
       " 0,\n",
       " 1,\n",
       " 0,\n",
       " 1,\n",
       " 1,\n",
       " 0,\n",
       " 0,\n",
       " 1,\n",
       " 1,\n",
       " 1,\n",
       " 0,\n",
       " 1,\n",
       " 1,\n",
       " 0]"
      ]
     },
     "execution_count": 9,
     "metadata": {},
     "output_type": "execute_result"
    }
   ],
   "source": [
    "y_hat_val"
   ]
  },
  {
   "cell_type": "code",
   "execution_count": null,
   "id": "17e5ae4f",
   "metadata": {},
   "outputs": [],
   "source": []
  }
 ],
 "metadata": {
  "kernelspec": {
   "display_name": "Python 3",
   "language": "python",
   "name": "python3"
  },
  "language_info": {
   "codemirror_mode": {
    "name": "ipython",
    "version": 3
   },
   "file_extension": ".py",
   "mimetype": "text/x-python",
   "name": "python",
   "nbconvert_exporter": "python",
   "pygments_lexer": "ipython3",
   "version": "3.8.3"
  }
 },
 "nbformat": 4,
 "nbformat_minor": 5
}
